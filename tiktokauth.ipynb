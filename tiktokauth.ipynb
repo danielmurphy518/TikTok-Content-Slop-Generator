{
 "cells": [
  {
   "cell_type": "code",
   "execution_count": 1,
   "id": "f835eac4-4fb7-4eed-b005-25500b5d542f",
   "metadata": {},
   "outputs": [
    {
     "name": "stdout",
     "output_type": "stream",
     "text": [
      "Visit http://localhost:5000 to start TikTok OAuth login.\n",
      " * Serving Flask app '__main__'\n",
      " * Debug mode: on\n"
     ]
    },
    {
     "name": "stderr",
     "output_type": "stream",
     "text": [
      "\u001b[31m\u001b[1mWARNING: This is a development server. Do not use it in a production deployment. Use a production WSGI server instead.\u001b[0m\n",
      " * Running on http://127.0.0.1:40001\n",
      "\u001b[33mPress CTRL+C to quit\u001b[0m\n",
      " * Restarting with stat\n",
      "Traceback (most recent call last):\n",
      "  File \"<frozen runpy>\", line 198, in _run_module_as_main\n",
      "  File \"<frozen runpy>\", line 88, in _run_code\n",
      "  File \"/Library/Frameworks/Python.framework/Versions/3.13/lib/python3.13/site-packages/ipykernel_launcher.py\", line 18, in <module>\n",
      "    app.launch_new_instance()\n",
      "    ~~~~~~~~~~~~~~~~~~~~~~~^^\n",
      "  File \"/Library/Frameworks/Python.framework/Versions/3.13/lib/python3.13/site-packages/traitlets/config/application.py\", line 1074, in launch_instance\n",
      "    app.initialize(argv)\n",
      "    ~~~~~~~~~~~~~~^^^^^^\n",
      "  File \"/Library/Frameworks/Python.framework/Versions/3.13/lib/python3.13/site-packages/traitlets/config/application.py\", line 118, in inner\n",
      "    return method(app, *args, **kwargs)\n",
      "  File \"/Library/Frameworks/Python.framework/Versions/3.13/lib/python3.13/site-packages/ipykernel/kernelapp.py\", line 692, in initialize\n",
      "    self.init_sockets()\n",
      "    ~~~~~~~~~~~~~~~~~^^\n",
      "  File \"/Library/Frameworks/Python.framework/Versions/3.13/lib/python3.13/site-packages/ipykernel/kernelapp.py\", line 331, in init_sockets\n",
      "    self.shell_port = self._bind_socket(self.shell_socket, self.shell_port)\n",
      "                      ~~~~~~~~~~~~~~~~~^^^^^^^^^^^^^^^^^^^^^^^^^^^^^^^^^^^^\n",
      "  File \"/Library/Frameworks/Python.framework/Versions/3.13/lib/python3.13/site-packages/ipykernel/kernelapp.py\", line 253, in _bind_socket\n",
      "    return self._try_bind_socket(s, port)\n",
      "           ~~~~~~~~~~~~~~~~~~~~~^^^^^^^^^\n",
      "  File \"/Library/Frameworks/Python.framework/Versions/3.13/lib/python3.13/site-packages/ipykernel/kernelapp.py\", line 229, in _try_bind_socket\n",
      "    s.bind(\"tcp://%s:%i\" % (self.ip, port))\n",
      "    ~~~~~~^^^^^^^^^^^^^^^^^^^^^^^^^^^^^^^^^\n",
      "  File \"/Library/Frameworks/Python.framework/Versions/3.13/lib/python3.13/site-packages/zmq/sugar/socket.py\", line 311, in bind\n",
      "    super().bind(addr)\n",
      "    ~~~~~~~~~~~~^^^^^^\n",
      "  File \"_zmq.py\", line 917, in zmq.backend.cython._zmq.Socket.bind\n",
      "  File \"_zmq.py\", line 179, in zmq.backend.cython._zmq._check_rc\n",
      "zmq.error.ZMQError: Address already in use (addr='tcp://127.0.0.1:51109')\n"
     ]
    },
    {
     "ename": "SystemExit",
     "evalue": "1",
     "output_type": "error",
     "traceback": [
      "An exception has occurred, use %tb to see the full traceback.\n",
      "\u001b[0;31mSystemExit\u001b[0m\u001b[0;31m:\u001b[0m 1\n"
     ]
    },
    {
     "name": "stderr",
     "output_type": "stream",
     "text": [
      "/Library/Frameworks/Python.framework/Versions/3.13/lib/python3.13/site-packages/IPython/core/interactiveshell.py:3585: UserWarning: To exit: use 'exit', 'quit', or Ctrl-D.\n",
      "  warn(\"To exit: use 'exit', 'quit', or Ctrl-D.\", stacklevel=1)\n"
     ]
    }
   ],
   "source": [
    "from flask import Flask, request, redirect\n",
    "import requests\n",
    "app = Flask(__name__)\n",
    "CLIENT_KEY = 'YOUR_CLIENT_KEY'\n",
    "CLIENT_SECRET = 'YOUR_CLIENT_SECRET'\n",
    "REDIRECT_URI = 'http://localhost:4000/callback'  # must match TikTok app settings\n",
    "@app.route('/')\n",
    "def login():\n",
    "    auth_url = (\n",
    "        \"https://www.tiktok.com/v2/auth/authorize/\"\n",
    "        f\"?client_key={CLIENT_KEY}\"\n",
    "        f\"&response_type=code\"\n",
    "        f\"&scope=user.info.basic\"\n",
    "        f\"&redirect_uri={REDIRECT_URI}\"\n",
    "        f\"&state=secure_random_string\"\n",
    "    )\n",
    "    return redirect(auth_url)\n",
    "@app.route('/callback')\n",
    "def callback():\n",
    "    code = request.args.get('code')\n",
    "    if not code:\n",
    "        return \"No code found in redirect.\"\n",
    "    token_url = \"https://open.tiktokapis.com/v2/oauth/token/\"\n",
    "    payload = {\n",
    "        \"client_key\": CLIENT_KEY,\n",
    "        \"client_secret\": CLIENT_SECRET,\n",
    "        \"code\": code,\n",
    "        \"grant_type\": \"authorization_code\",\n",
    "        \"redirect_uri\": REDIRECT_URI\n",
    "    }\n",
    "    response = requests.post(token_url, data=payload)\n",
    "    if response.status_code == 200:\n",
    "        token_data = response.json()\n",
    "        return f\"Access Token: {token_data.get('access_token')}<br><br>{token_data}\"\n",
    "    else:\n",
    "        return f\"Error getting token: {response.text}\"\n",
    "if __name__ == '__main__':\n",
    "    print(f\"Visit http://localhost:5000 to start TikTok OAuth login.\")\n",
    "    app.run(debug=True, port=40001)"
   ]
  },
  {
   "cell_type": "code",
   "execution_count": null,
   "id": "00242296-ccb7-4b16-9395-ca7ed48ece98",
   "metadata": {},
   "outputs": [],
   "source": []
  },
  {
   "cell_type": "code",
   "execution_count": null,
   "id": "f468662c-8431-46f2-8e53-8c24d2e48002",
   "metadata": {},
   "outputs": [],
   "source": []
  }
 ],
 "metadata": {
  "kernelspec": {
   "display_name": "Python 3 (ipykernel)",
   "language": "python",
   "name": "python3"
  },
  "language_info": {
   "codemirror_mode": {
    "name": "ipython",
    "version": 3
   },
   "file_extension": ".py",
   "mimetype": "text/x-python",
   "name": "python",
   "nbconvert_exporter": "python",
   "pygments_lexer": "ipython3",
   "version": "3.13.1"
  }
 },
 "nbformat": 4,
 "nbformat_minor": 5
}
